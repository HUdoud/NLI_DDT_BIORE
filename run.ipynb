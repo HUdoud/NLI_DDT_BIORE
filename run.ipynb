{
 "cells": [
  {
   "cell_type": "code",
   "execution_count": null,
   "id": "025cd08b-6764-42af-99a6-7937547c39d2",
   "metadata": {},
   "outputs": [],
   "source": [
    "import os\n",
    "# path=\"/content/drive/MyDrive/thing/NLI/\"\n",
    "# os.chdir(path)\n",
    "# os.listdir(path)\n",
    "os.getcwd()"
   ]
  },
  {
   "cell_type": "code",
   "execution_count": null,
   "id": "d4e00aca-32f1-467c-975e-396cda132e1c",
   "metadata": {
    "scrolled": true,
    "tags": []
   },
   "outputs": [],
   "source": [
    "!pip install -r requirements.txt"
   ]
  },
  {
   "cell_type": "code",
   "execution_count": null,
   "id": "712170db-9265-48bf-8be1-0f4e4c4b9c36",
   "metadata": {},
   "outputs": [],
   "source": [
    "!pip install lightning-bolts==0.6.0.post1\n",
    "!pip install lightning-lite==1.8.0\n",
    "!pip install lightning-utilities==0.3.0\n",
    "!pip install pytorch-lightning==1.8.0"
   ]
  },
  {
   "cell_type": "code",
   "execution_count": null,
   "id": "04e6758f-e5ea-4667-915f-f286e6a443b5",
   "metadata": {
    "tags": []
   },
   "outputs": [],
   "source": [
    "!python run.py profile=re_twostage model.model.model_path=\"cnut1648/biolinkbert-large-mnli-snli\" \\\n",
    "  model.model.margin=0.7 model.model.temperature=0.01 \\\n",
    "  datamodule.batch_size=6 trainer.accumulate_grad_batches=16 \\\n",
    "  model.model.hypo_version=v2 model.model.use_loss=\"NCE+AC\""
   ]
  },
  {
   "cell_type": "code",
   "execution_count": 3,
   "id": "686317f6-a71d-481d-bd60-e8846ee46865",
   "metadata": {},
   "outputs": [],
   "source": [
    "!pip freeze > requirements.txt"
   ]
  }
 ],
 "metadata": {
  "kernelspec": {
   "display_name": "Python 3 (ipykernel)",
   "language": "python",
   "name": "python3"
  },
  "language_info": {
   "codemirror_mode": {
    "name": "ipython",
    "version": 3
   },
   "file_extension": ".py",
   "mimetype": "text/x-python",
   "name": "python",
   "nbconvert_exporter": "python",
   "pygments_lexer": "ipython3",
   "version": "3.10.8"
  }
 },
 "nbformat": 4,
 "nbformat_minor": 5
}
